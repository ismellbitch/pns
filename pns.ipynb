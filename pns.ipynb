{
 "cells": [
  {
   "cell_type": "code",
   "id": "initial_id",
   "metadata": {
    "collapsed": true,
    "ExecuteTime": {
     "end_time": "2024-12-04T14:17:57.789819Z",
     "start_time": "2024-12-04T14:17:57.785313Z"
    }
   },
   "source": [
    "import numpy as np\n",
    "import matplotlib.pyplot as plt\n",
    "import pandas as pd"
   ],
   "outputs": [],
   "execution_count": 17
  },
  {
   "metadata": {
    "ExecuteTime": {
     "end_time": "2024-12-04T14:17:57.823984Z",
     "start_time": "2024-12-04T14:17:57.801650Z"
    }
   },
   "cell_type": "code",
   "source": [
    "df=pd.read_excel('pns.xlsx')\n",
    "df"
   ],
   "id": "221ab8cd5bec0709",
   "outputs": [
    {
     "data": {
      "text/plain": [
       "   №       ФИО Пол  Класс  Количество_баллов  Рост\n",
       "0  1    Иванов   м      1                 20   138\n",
       "1  2    Петров   м      2                 21   140\n",
       "2  3   Сидоров   м      3                 20   112\n",
       "3  4  Котёлова   ж      2                 20   132\n",
       "4  5   Озёрова   ж      2                 20   136"
      ],
      "text/html": [
       "<div>\n",
       "<style scoped>\n",
       "    .dataframe tbody tr th:only-of-type {\n",
       "        vertical-align: middle;\n",
       "    }\n",
       "\n",
       "    .dataframe tbody tr th {\n",
       "        vertical-align: top;\n",
       "    }\n",
       "\n",
       "    .dataframe thead th {\n",
       "        text-align: right;\n",
       "    }\n",
       "</style>\n",
       "<table border=\"1\" class=\"dataframe\">\n",
       "  <thead>\n",
       "    <tr style=\"text-align: right;\">\n",
       "      <th></th>\n",
       "      <th>№</th>\n",
       "      <th>ФИО</th>\n",
       "      <th>Пол</th>\n",
       "      <th>Класс</th>\n",
       "      <th>Количество_баллов</th>\n",
       "      <th>Рост</th>\n",
       "    </tr>\n",
       "  </thead>\n",
       "  <tbody>\n",
       "    <tr>\n",
       "      <th>0</th>\n",
       "      <td>1</td>\n",
       "      <td>Иванов</td>\n",
       "      <td>м</td>\n",
       "      <td>1</td>\n",
       "      <td>20</td>\n",
       "      <td>138</td>\n",
       "    </tr>\n",
       "    <tr>\n",
       "      <th>1</th>\n",
       "      <td>2</td>\n",
       "      <td>Петров</td>\n",
       "      <td>м</td>\n",
       "      <td>2</td>\n",
       "      <td>21</td>\n",
       "      <td>140</td>\n",
       "    </tr>\n",
       "    <tr>\n",
       "      <th>2</th>\n",
       "      <td>3</td>\n",
       "      <td>Сидоров</td>\n",
       "      <td>м</td>\n",
       "      <td>3</td>\n",
       "      <td>20</td>\n",
       "      <td>112</td>\n",
       "    </tr>\n",
       "    <tr>\n",
       "      <th>3</th>\n",
       "      <td>4</td>\n",
       "      <td>Котёлова</td>\n",
       "      <td>ж</td>\n",
       "      <td>2</td>\n",
       "      <td>20</td>\n",
       "      <td>132</td>\n",
       "    </tr>\n",
       "    <tr>\n",
       "      <th>4</th>\n",
       "      <td>5</td>\n",
       "      <td>Озёрова</td>\n",
       "      <td>ж</td>\n",
       "      <td>2</td>\n",
       "      <td>20</td>\n",
       "      <td>136</td>\n",
       "    </tr>\n",
       "  </tbody>\n",
       "</table>\n",
       "</div>"
      ]
     },
     "execution_count": 18,
     "metadata": {},
     "output_type": "execute_result"
    }
   ],
   "execution_count": 18
  },
  {
   "metadata": {
    "ExecuteTime": {
     "end_time": "2024-12-04T14:17:57.890729Z",
     "start_time": "2024-12-04T14:17:57.877298Z"
    }
   },
   "cell_type": "code",
   "source": [
    "task1 = df.query('Класс <= 2')\n",
    "task1"
   ],
   "id": "57122543076c34cd",
   "outputs": [
    {
     "data": {
      "text/plain": [
       "   №       ФИО Пол  Класс  Количество_баллов  Рост\n",
       "0  1    Иванов   м      1                 20   138\n",
       "1  2    Петров   м      2                 21   140\n",
       "3  4  Котёлова   ж      2                 20   132\n",
       "4  5   Озёрова   ж      2                 20   136"
      ],
      "text/html": [
       "<div>\n",
       "<style scoped>\n",
       "    .dataframe tbody tr th:only-of-type {\n",
       "        vertical-align: middle;\n",
       "    }\n",
       "\n",
       "    .dataframe tbody tr th {\n",
       "        vertical-align: top;\n",
       "    }\n",
       "\n",
       "    .dataframe thead th {\n",
       "        text-align: right;\n",
       "    }\n",
       "</style>\n",
       "<table border=\"1\" class=\"dataframe\">\n",
       "  <thead>\n",
       "    <tr style=\"text-align: right;\">\n",
       "      <th></th>\n",
       "      <th>№</th>\n",
       "      <th>ФИО</th>\n",
       "      <th>Пол</th>\n",
       "      <th>Класс</th>\n",
       "      <th>Количество_баллов</th>\n",
       "      <th>Рост</th>\n",
       "    </tr>\n",
       "  </thead>\n",
       "  <tbody>\n",
       "    <tr>\n",
       "      <th>0</th>\n",
       "      <td>1</td>\n",
       "      <td>Иванов</td>\n",
       "      <td>м</td>\n",
       "      <td>1</td>\n",
       "      <td>20</td>\n",
       "      <td>138</td>\n",
       "    </tr>\n",
       "    <tr>\n",
       "      <th>1</th>\n",
       "      <td>2</td>\n",
       "      <td>Петров</td>\n",
       "      <td>м</td>\n",
       "      <td>2</td>\n",
       "      <td>21</td>\n",
       "      <td>140</td>\n",
       "    </tr>\n",
       "    <tr>\n",
       "      <th>3</th>\n",
       "      <td>4</td>\n",
       "      <td>Котёлова</td>\n",
       "      <td>ж</td>\n",
       "      <td>2</td>\n",
       "      <td>20</td>\n",
       "      <td>132</td>\n",
       "    </tr>\n",
       "    <tr>\n",
       "      <th>4</th>\n",
       "      <td>5</td>\n",
       "      <td>Озёрова</td>\n",
       "      <td>ж</td>\n",
       "      <td>2</td>\n",
       "      <td>20</td>\n",
       "      <td>136</td>\n",
       "    </tr>\n",
       "  </tbody>\n",
       "</table>\n",
       "</div>"
      ]
     },
     "execution_count": 19,
     "metadata": {},
     "output_type": "execute_result"
    }
   ],
   "execution_count": 19
  },
  {
   "metadata": {
    "ExecuteTime": {
     "end_time": "2024-12-04T14:18:03.202847Z",
     "start_time": "2024-12-04T14:18:03.167936Z"
    }
   },
   "cell_type": "code",
   "source": [
    "task2 = df.query('Количество_баллов > 20')\n",
    "task2"
   ],
   "id": "5631b89b2fc12757",
   "outputs": [
    {
     "data": {
      "text/plain": [
       "   №     ФИО Пол  Класс  Количество_баллов  Рост\n",
       "1  2  Петров   м      2                 21   140"
      ],
      "text/html": [
       "<div>\n",
       "<style scoped>\n",
       "    .dataframe tbody tr th:only-of-type {\n",
       "        vertical-align: middle;\n",
       "    }\n",
       "\n",
       "    .dataframe tbody tr th {\n",
       "        vertical-align: top;\n",
       "    }\n",
       "\n",
       "    .dataframe thead th {\n",
       "        text-align: right;\n",
       "    }\n",
       "</style>\n",
       "<table border=\"1\" class=\"dataframe\">\n",
       "  <thead>\n",
       "    <tr style=\"text-align: right;\">\n",
       "      <th></th>\n",
       "      <th>№</th>\n",
       "      <th>ФИО</th>\n",
       "      <th>Пол</th>\n",
       "      <th>Класс</th>\n",
       "      <th>Количество_баллов</th>\n",
       "      <th>Рост</th>\n",
       "    </tr>\n",
       "  </thead>\n",
       "  <tbody>\n",
       "    <tr>\n",
       "      <th>1</th>\n",
       "      <td>2</td>\n",
       "      <td>Петров</td>\n",
       "      <td>м</td>\n",
       "      <td>2</td>\n",
       "      <td>21</td>\n",
       "      <td>140</td>\n",
       "    </tr>\n",
       "  </tbody>\n",
       "</table>\n",
       "</div>"
      ]
     },
     "execution_count": 21,
     "metadata": {},
     "output_type": "execute_result"
    }
   ],
   "execution_count": 21
  },
  {
   "metadata": {
    "ExecuteTime": {
     "end_time": "2024-12-04T14:20:06.092636Z",
     "start_time": "2024-12-04T14:20:06.054496Z"
    }
   },
   "cell_type": "code",
   "source": [
    "task3 = df.groupby('Класс')['Количество_баллов'].mean()\n",
    "task3"
   ],
   "id": "a0c717133bd7b6b7",
   "outputs": [
    {
     "data": {
      "text/plain": [
       "Класс\n",
       "1    20.000000\n",
       "2    20.333333\n",
       "3    20.000000\n",
       "Name: Количество_баллов, dtype: float64"
      ]
     },
     "execution_count": 22,
     "metadata": {},
     "output_type": "execute_result"
    }
   ],
   "execution_count": 22
  },
  {
   "metadata": {
    "ExecuteTime": {
     "end_time": "2024-12-04T14:21:55.446177Z",
     "start_time": "2024-12-04T14:21:55.436023Z"
    }
   },
   "cell_type": "code",
   "source": [
    "w=df.query(\"Пол == 'м'\")\n",
    "l=df.query(\"Пол == 'ж'\")"
   ],
   "id": "403273eba3a34a77",
   "outputs": [],
   "execution_count": 23
  },
  {
   "metadata": {
    "ExecuteTime": {
     "end_time": "2024-12-04T14:22:40.570928Z",
     "start_time": "2024-12-04T14:22:40.562489Z"
    }
   },
   "cell_type": "code",
   "source": [
    "wmean=w['Количество_баллов'].sum()\n",
    "wmean"
   ],
   "id": "fd211ab62cd796eb",
   "outputs": [
    {
     "data": {
      "text/plain": [
       "61"
      ]
     },
     "execution_count": 27,
     "metadata": {},
     "output_type": "execute_result"
    }
   ],
   "execution_count": 27
  },
  {
   "metadata": {
    "ExecuteTime": {
     "end_time": "2024-12-04T14:22:50.034626Z",
     "start_time": "2024-12-04T14:22:50.028297Z"
    }
   },
   "cell_type": "code",
   "source": [
    "lmean=l['Количество_баллов'].sum()\n",
    "lmean"
   ],
   "id": "e4694ad7b353d14b",
   "outputs": [
    {
     "data": {
      "text/plain": [
       "40"
      ]
     },
     "execution_count": 28,
     "metadata": {},
     "output_type": "execute_result"
    }
   ],
   "execution_count": 28
  },
  {
   "metadata": {
    "ExecuteTime": {
     "end_time": "2024-12-04T14:24:25.243179Z",
     "start_time": "2024-12-04T14:24:25.230408Z"
    }
   },
   "cell_type": "code",
   "source": [
    "task5 = df.sort_values(by=['Класс', 'Рост'], ascending=[True, True])\n",
    "task5"
   ],
   "id": "bd6c67979e501c1d",
   "outputs": [
    {
     "data": {
      "text/plain": [
       "   №       ФИО Пол  Класс  Количество_баллов  Рост\n",
       "0  1    Иванов   м      1                 20   138\n",
       "3  4  Котёлова   ж      2                 20   132\n",
       "4  5   Озёрова   ж      2                 20   136\n",
       "1  2    Петров   м      2                 21   140\n",
       "2  3   Сидоров   м      3                 20   112"
      ],
      "text/html": [
       "<div>\n",
       "<style scoped>\n",
       "    .dataframe tbody tr th:only-of-type {\n",
       "        vertical-align: middle;\n",
       "    }\n",
       "\n",
       "    .dataframe tbody tr th {\n",
       "        vertical-align: top;\n",
       "    }\n",
       "\n",
       "    .dataframe thead th {\n",
       "        text-align: right;\n",
       "    }\n",
       "</style>\n",
       "<table border=\"1\" class=\"dataframe\">\n",
       "  <thead>\n",
       "    <tr style=\"text-align: right;\">\n",
       "      <th></th>\n",
       "      <th>№</th>\n",
       "      <th>ФИО</th>\n",
       "      <th>Пол</th>\n",
       "      <th>Класс</th>\n",
       "      <th>Количество_баллов</th>\n",
       "      <th>Рост</th>\n",
       "    </tr>\n",
       "  </thead>\n",
       "  <tbody>\n",
       "    <tr>\n",
       "      <th>0</th>\n",
       "      <td>1</td>\n",
       "      <td>Иванов</td>\n",
       "      <td>м</td>\n",
       "      <td>1</td>\n",
       "      <td>20</td>\n",
       "      <td>138</td>\n",
       "    </tr>\n",
       "    <tr>\n",
       "      <th>3</th>\n",
       "      <td>4</td>\n",
       "      <td>Котёлова</td>\n",
       "      <td>ж</td>\n",
       "      <td>2</td>\n",
       "      <td>20</td>\n",
       "      <td>132</td>\n",
       "    </tr>\n",
       "    <tr>\n",
       "      <th>4</th>\n",
       "      <td>5</td>\n",
       "      <td>Озёрова</td>\n",
       "      <td>ж</td>\n",
       "      <td>2</td>\n",
       "      <td>20</td>\n",
       "      <td>136</td>\n",
       "    </tr>\n",
       "    <tr>\n",
       "      <th>1</th>\n",
       "      <td>2</td>\n",
       "      <td>Петров</td>\n",
       "      <td>м</td>\n",
       "      <td>2</td>\n",
       "      <td>21</td>\n",
       "      <td>140</td>\n",
       "    </tr>\n",
       "    <tr>\n",
       "      <th>2</th>\n",
       "      <td>3</td>\n",
       "      <td>Сидоров</td>\n",
       "      <td>м</td>\n",
       "      <td>3</td>\n",
       "      <td>20</td>\n",
       "      <td>112</td>\n",
       "    </tr>\n",
       "  </tbody>\n",
       "</table>\n",
       "</div>"
      ]
     },
     "execution_count": 30,
     "metadata": {},
     "output_type": "execute_result"
    }
   ],
   "execution_count": 30
  },
  {
   "metadata": {
    "ExecuteTime": {
     "end_time": "2024-12-04T14:44:16.591451Z",
     "start_time": "2024-12-04T14:44:15.460638Z"
    }
   },
   "cell_type": "code",
   "source": [
    "plt.figure(figsize=(10, 6))\n",
    "plt.hist(df['Рост'], bins=10, edgecolor='black')\n",
    "plt.xlabel('Рост (см)')\n",
    "plt.ylabel('Количество учеников')\n",
    "plt.title('Распределение учеников по росту')\n",
    "plt.grid(True)\n",
    "plt.show()"
   ],
   "id": "a7ebae706f9519c6",
   "outputs": [
    {
     "data": {
      "text/plain": [
       "<Figure size 1000x600 with 1 Axes>"
      ],
      "image/png": "[encoded data removed]"
     },
     "metadata": {},
     "output_type": "display_data"
    }
   ],
   "execution_count": 31
  }
 ],
 "metadata": {
  "kernelspec": {
   "display_name": "Python 3",
   "language": "python",
   "name": "python3"
  },
  "language_info": {
   "codemirror_mode": {
    "name": "ipython",
    "version": 2
   },
   "file_extension": ".py",
   "mimetype": "text/x-python",
   "name": "python",
   "nbconvert_exporter": "python",
   "pygments_lexer": "ipython2",
   "version": "2.7.6"
  }
 },
 "nbformat": 4,
 "nbformat_minor": 5
}
