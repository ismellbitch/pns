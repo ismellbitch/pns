{
 "cells": [
  {
   "cell_type": "code",
   "id": "initial_id",
   "metadata": {
    "collapsed": true,
    "ExecuteTime": {
     "end_time": "2024-10-26T22:02:46.404414Z",
     "start_time": "2024-10-26T22:02:46.388847Z"
    }
   },
   "source": [
    "import numpy as np\n",
    "import pandas as pd"
   ],
   "outputs": [],
   "execution_count": 222
  },
  {
   "metadata": {
    "ExecuteTime": {
     "end_time": "2024-12-04T14:07:24.362074Z",
     "start_time": "2024-12-04T14:07:23.542239Z"
    }
   },
   "cell_type": "code",
   "source": [
    "df=pd.read_excel('ex1.xlsx')\n",
    "df"
   ],
   "id": "5e0e213b3e6d9679",
   "outputs": [
    {
     "ename": "NameError",
     "evalue": "name 'pd' is not defined",
     "output_type": "error",
     "traceback": [
      "\u001B[1;31m---------------------------------------------------------------------------\u001B[0m",
      "\u001B[1;31mNameError\u001B[0m                                 Traceback (most recent call last)",
      "Cell \u001B[1;32mIn[1], line 1\u001B[0m\n\u001B[1;32m----> 1\u001B[0m df\u001B[38;5;241m=\u001B[39mpd\u001B[38;5;241m.\u001B[39mread_excel(\u001B[38;5;124m'\u001B[39m\u001B[38;5;124mex1.xlsx\u001B[39m\u001B[38;5;124m'\u001B[39m)\n\u001B[0;32m      2\u001B[0m df\n",
      "\u001B[1;31mNameError\u001B[0m: name 'pd' is not defined"
     ]
    }
   ],
   "execution_count": 1
  },
  {
   "metadata": {
    "ExecuteTime": {
     "end_time": "2024-10-26T22:02:46.585637Z",
     "start_time": "2024-10-26T22:02:46.549347Z"
    }
   },
   "cell_type": "code",
   "source": [
    "df['total']=df['price']*df['count']\n",
    "df"
   ],
   "id": "d6881b3ed3a8cd13",
   "outputs": [
    {
     "data": {
      "text/plain": [
       "   number       Name   unit  price  count  weight  total  sostav\n",
       "0       1  Картофель     кг    5.0   0.30     300   1.50       3\n",
       "1       2     Фасоль     кг   12.0   0.25     250   3.00       7\n",
       "2       3   Помидоры     кг   30.0   0.55     550  16.50      37\n",
       "3       4       Рыба  банка   14.5   1.00     600  14.50      32\n",
       "4       5    Капуста     кг    9.0   0.75     750   6.75      15\n",
       "5       6       Яйца     шт    1.4   2.00      40   2.80       6"
      ],
      "text/html": [
       "<div>\n",
       "<style scoped>\n",
       "    .dataframe tbody tr th:only-of-type {\n",
       "        vertical-align: middle;\n",
       "    }\n",
       "\n",
       "    .dataframe tbody tr th {\n",
       "        vertical-align: top;\n",
       "    }\n",
       "\n",
       "    .dataframe thead th {\n",
       "        text-align: right;\n",
       "    }\n",
       "</style>\n",
       "<table border=\"1\" class=\"dataframe\">\n",
       "  <thead>\n",
       "    <tr style=\"text-align: right;\">\n",
       "      <th></th>\n",
       "      <th>number</th>\n",
       "      <th>Name</th>\n",
       "      <th>unit</th>\n",
       "      <th>price</th>\n",
       "      <th>count</th>\n",
       "      <th>weight</th>\n",
       "      <th>total</th>\n",
       "      <th>sostav</th>\n",
       "    </tr>\n",
       "  </thead>\n",
       "  <tbody>\n",
       "    <tr>\n",
       "      <th>0</th>\n",
       "      <td>1</td>\n",
       "      <td>Картофель</td>\n",
       "      <td>кг</td>\n",
       "      <td>5.0</td>\n",
       "      <td>0.30</td>\n",
       "      <td>300</td>\n",
       "      <td>1.50</td>\n",
       "      <td>3</td>\n",
       "    </tr>\n",
       "    <tr>\n",
       "      <th>1</th>\n",
       "      <td>2</td>\n",
       "      <td>Фасоль</td>\n",
       "      <td>кг</td>\n",
       "      <td>12.0</td>\n",
       "      <td>0.25</td>\n",
       "      <td>250</td>\n",
       "      <td>3.00</td>\n",
       "      <td>7</td>\n",
       "    </tr>\n",
       "    <tr>\n",
       "      <th>2</th>\n",
       "      <td>3</td>\n",
       "      <td>Помидоры</td>\n",
       "      <td>кг</td>\n",
       "      <td>30.0</td>\n",
       "      <td>0.55</td>\n",
       "      <td>550</td>\n",
       "      <td>16.50</td>\n",
       "      <td>37</td>\n",
       "    </tr>\n",
       "    <tr>\n",
       "      <th>3</th>\n",
       "      <td>4</td>\n",
       "      <td>Рыба</td>\n",
       "      <td>банка</td>\n",
       "      <td>14.5</td>\n",
       "      <td>1.00</td>\n",
       "      <td>600</td>\n",
       "      <td>14.50</td>\n",
       "      <td>32</td>\n",
       "    </tr>\n",
       "    <tr>\n",
       "      <th>4</th>\n",
       "      <td>5</td>\n",
       "      <td>Капуста</td>\n",
       "      <td>кг</td>\n",
       "      <td>9.0</td>\n",
       "      <td>0.75</td>\n",
       "      <td>750</td>\n",
       "      <td>6.75</td>\n",
       "      <td>15</td>\n",
       "    </tr>\n",
       "    <tr>\n",
       "      <th>5</th>\n",
       "      <td>6</td>\n",
       "      <td>Яйца</td>\n",
       "      <td>шт</td>\n",
       "      <td>1.4</td>\n",
       "      <td>2.00</td>\n",
       "      <td>40</td>\n",
       "      <td>2.80</td>\n",
       "      <td>6</td>\n",
       "    </tr>\n",
       "  </tbody>\n",
       "</table>\n",
       "</div>"
      ]
     },
     "execution_count": 224,
     "metadata": {},
     "output_type": "execute_result"
    }
   ],
   "execution_count": 224
  },
  {
   "metadata": {
    "ExecuteTime": {
     "end_time": "2024-10-26T22:02:46.673683Z",
     "start_time": "2024-10-26T22:02:46.649692Z"
    }
   },
   "cell_type": "code",
   "source": [
    "myrow={'number':'','name':\"Итого:\",'unit':'','price':'','count':df['count'].sum(),'weight':df['weight'].sum(),\n",
    "       'total':df['total'].sum(),'sostav':df['sostav'].sum()}\n",
    "total_weight=df['weight'].sum()\n",
    "count_portion=total_weight/100\n",
    "price_portion=round(df['total'].sum()/count_portion,2)\n",
    "for_diagram=pd.Series(df['sostav'])\n",
    "myrow"
   ],
   "id": "298c0732b59cf677",
   "outputs": [
    {
     "data": {
      "text/plain": [
       "{'number': '',\n",
       " 'name': 'Итого:',\n",
       " 'unit': '',\n",
       " 'price': '',\n",
       " 'count': 4.85,\n",
       " 'weight': 2490,\n",
       " 'total': 45.05,\n",
       " 'sostav': 100}"
      ]
     },
     "execution_count": 225,
     "metadata": {},
     "output_type": "execute_result"
    }
   ],
   "execution_count": 225
  },
  {
   "metadata": {
    "ExecuteTime": {
     "end_time": "2024-10-26T22:02:46.739632Z",
     "start_time": "2024-10-26T22:02:46.725551Z"
    }
   },
   "cell_type": "code",
   "source": "total_weight",
   "id": "aea614779394f7dd",
   "outputs": [
    {
     "data": {
      "text/plain": [
       "2490"
      ]
     },
     "execution_count": 226,
     "metadata": {},
     "output_type": "execute_result"
    }
   ],
   "execution_count": 226
  },
  {
   "metadata": {
    "ExecuteTime": {
     "end_time": "2024-10-26T22:02:46.924958Z",
     "start_time": "2024-10-26T22:02:46.905901Z"
    }
   },
   "cell_type": "code",
   "source": "count_portion",
   "id": "55f5f7c1a2a4a68",
   "outputs": [
    {
     "data": {
      "text/plain": [
       "24.9"
      ]
     },
     "execution_count": 227,
     "metadata": {},
     "output_type": "execute_result"
    }
   ],
   "execution_count": 227
  },
  {
   "metadata": {
    "ExecuteTime": {
     "end_time": "2024-10-26T22:02:47.003477Z",
     "start_time": "2024-10-26T22:02:46.985923Z"
    }
   },
   "cell_type": "code",
   "source": "price_portion",
   "id": "cf31320a47b624d1",
   "outputs": [
    {
     "data": {
      "text/plain": [
       "1.81"
      ]
     },
     "execution_count": 228,
     "metadata": {},
     "output_type": "execute_result"
    }
   ],
   "execution_count": 228
  },
  {
   "metadata": {
    "ExecuteTime": {
     "end_time": "2024-10-26T22:02:47.179174Z",
     "start_time": "2024-10-26T22:02:47.166758Z"
    }
   },
   "cell_type": "code",
   "source": [
    "total_price=round(price_portion*2.05,2)\n",
    "total_price"
   ],
   "id": "9ee900ce44003ea1",
   "outputs": [
    {
     "data": {
      "text/plain": [
       "3.71"
      ]
     },
     "execution_count": 229,
     "metadata": {},
     "output_type": "execute_result"
    }
   ],
   "execution_count": 229
  },
  {
   "metadata": {
    "ExecuteTime": {
     "end_time": "2024-10-26T22:02:47.250164Z",
     "start_time": "2024-10-26T22:02:47.231762Z"
    }
   },
   "cell_type": "code",
   "source": "for_diagram",
   "id": "6ad9be53f5cec57a",
   "outputs": [
    {
     "data": {
      "text/plain": [
       "0     3\n",
       "1     7\n",
       "2    37\n",
       "3    32\n",
       "4    15\n",
       "5     6\n",
       "Name: sostav, dtype: int64"
      ]
     },
     "execution_count": 230,
     "metadata": {},
     "output_type": "execute_result"
    }
   ],
   "execution_count": 230
  },
  {
   "metadata": {
    "ExecuteTime": {
     "end_time": "2024-10-26T22:02:47.337129Z",
     "start_time": "2024-10-26T22:02:47.292204Z"
    }
   },
   "cell_type": "code",
   "source": [
    "df.loc[len(df)]=myrow\n",
    "df.loc[len(df)-1,'Name']=\"Итого:\"\n",
    "df"
   ],
   "id": "b7e63e223071d0a5",
   "outputs": [
    {
     "data": {
      "text/plain": [
       "  number       Name   unit price  count  weight  total  sostav\n",
       "0      1  Картофель     кг   5.0   0.30     300   1.50       3\n",
       "1      2     Фасоль     кг  12.0   0.25     250   3.00       7\n",
       "2      3   Помидоры     кг  30.0   0.55     550  16.50      37\n",
       "3      4       Рыба  банка  14.5   1.00     600  14.50      32\n",
       "4      5    Капуста     кг   9.0   0.75     750   6.75      15\n",
       "5      6       Яйца     шт   1.4   2.00      40   2.80       6\n",
       "6            Итого:                4.85    2490  45.05     100"
      ],
      "text/html": [
       "<div>\n",
       "<style scoped>\n",
       "    .dataframe tbody tr th:only-of-type {\n",
       "        vertical-align: middle;\n",
       "    }\n",
       "\n",
       "    .dataframe tbody tr th {\n",
       "        vertical-align: top;\n",
       "    }\n",
       "\n",
       "    .dataframe thead th {\n",
       "        text-align: right;\n",
       "    }\n",
       "</style>\n",
       "<table border=\"1\" class=\"dataframe\">\n",
       "  <thead>\n",
       "    <tr style=\"text-align: right;\">\n",
       "      <th></th>\n",
       "      <th>number</th>\n",
       "      <th>Name</th>\n",
       "      <th>unit</th>\n",
       "      <th>price</th>\n",
       "      <th>count</th>\n",
       "      <th>weight</th>\n",
       "      <th>total</th>\n",
       "      <th>sostav</th>\n",
       "    </tr>\n",
       "  </thead>\n",
       "  <tbody>\n",
       "    <tr>\n",
       "      <th>0</th>\n",
       "      <td>1</td>\n",
       "      <td>Картофель</td>\n",
       "      <td>кг</td>\n",
       "      <td>5.0</td>\n",
       "      <td>0.30</td>\n",
       "      <td>300</td>\n",
       "      <td>1.50</td>\n",
       "      <td>3</td>\n",
       "    </tr>\n",
       "    <tr>\n",
       "      <th>1</th>\n",
       "      <td>2</td>\n",
       "      <td>Фасоль</td>\n",
       "      <td>кг</td>\n",
       "      <td>12.0</td>\n",
       "      <td>0.25</td>\n",
       "      <td>250</td>\n",
       "      <td>3.00</td>\n",
       "      <td>7</td>\n",
       "    </tr>\n",
       "    <tr>\n",
       "      <th>2</th>\n",
       "      <td>3</td>\n",
       "      <td>Помидоры</td>\n",
       "      <td>кг</td>\n",
       "      <td>30.0</td>\n",
       "      <td>0.55</td>\n",
       "      <td>550</td>\n",
       "      <td>16.50</td>\n",
       "      <td>37</td>\n",
       "    </tr>\n",
       "    <tr>\n",
       "      <th>3</th>\n",
       "      <td>4</td>\n",
       "      <td>Рыба</td>\n",
       "      <td>банка</td>\n",
       "      <td>14.5</td>\n",
       "      <td>1.00</td>\n",
       "      <td>600</td>\n",
       "      <td>14.50</td>\n",
       "      <td>32</td>\n",
       "    </tr>\n",
       "    <tr>\n",
       "      <th>4</th>\n",
       "      <td>5</td>\n",
       "      <td>Капуста</td>\n",
       "      <td>кг</td>\n",
       "      <td>9.0</td>\n",
       "      <td>0.75</td>\n",
       "      <td>750</td>\n",
       "      <td>6.75</td>\n",
       "      <td>15</td>\n",
       "    </tr>\n",
       "    <tr>\n",
       "      <th>5</th>\n",
       "      <td>6</td>\n",
       "      <td>Яйца</td>\n",
       "      <td>шт</td>\n",
       "      <td>1.4</td>\n",
       "      <td>2.00</td>\n",
       "      <td>40</td>\n",
       "      <td>2.80</td>\n",
       "      <td>6</td>\n",
       "    </tr>\n",
       "    <tr>\n",
       "      <th>6</th>\n",
       "      <td></td>\n",
       "      <td>Итого:</td>\n",
       "      <td></td>\n",
       "      <td></td>\n",
       "      <td>4.85</td>\n",
       "      <td>2490</td>\n",
       "      <td>45.05</td>\n",
       "      <td>100</td>\n",
       "    </tr>\n",
       "  </tbody>\n",
       "</table>\n",
       "</div>"
      ]
     },
     "execution_count": 231,
     "metadata": {},
     "output_type": "execute_result"
    }
   ],
   "execution_count": 231
  },
  {
   "metadata": {
    "ExecuteTime": {
     "end_time": "2024-10-26T22:02:50.573975Z",
     "start_time": "2024-10-26T22:02:47.342898Z"
    }
   },
   "cell_type": "code",
   "source": "for_diagram.plot.pie()",
   "id": "875eb9670831c43f",
   "outputs": [
    {
     "data": {
      "text/plain": [
       "<Axes: ylabel='sostav'>"
      ]
     },
     "execution_count": 232,
     "metadata": {},
     "output_type": "execute_result"
    },
    {
     "data": {
      "text/plain": [
       "<Figure size 640x480 with 1 Axes>"
      ],
      "image/png": "[encoded data removed]"
     },
     "metadata": {},
     "output_type": "display_data"
    }
   ],
   "execution_count": 232
  }
 ],
 "metadata": {
  "kernelspec": {
   "display_name": "Python 3",
   "language": "python",
   "name": "python3"
  },
  "language_info": {
   "codemirror_mode": {
    "name": "ipython",
    "version": 2
   },
   "file_extension": ".py",
   "mimetype": "text/x-python",
   "name": "python",
   "nbconvert_exporter": "python",
   "pygments_lexer": "ipython2",
   "version": "2.7.6"
  }
 },
 "nbformat": 4,
 "nbformat_minor": 5
}
